{
 "cells": [
  {
   "cell_type": "code",
   "execution_count": null,
   "metadata": {},
   "outputs": [],
   "source": [
    "import pandas as pd\n",
    "from sklearn.model_selection import train_test_split\n",
    "from sklearn.pipeline import make_pipeline\n",
    "from sklearn.linear_model import Ridge\n",
    "from sklearn.metrics import mean_squared_error\n",
    "from sklearn.metrics import r2_score\n",
    "from sklearn.preprocessing import PolynomialFeatures"
   ]
  },
  {
   "attachments": {},
   "cell_type": "markdown",
   "metadata": {},
   "source": [
    "# Fish, Weight, and Species"
   ]
  },
  {
   "attachments": {},
   "cell_type": "markdown",
   "metadata": {},
   "source": [
    "The following is a model to estimate the weight of a fish based on it's measurements.\n",
    "\n",
    "The data used to train and test the model in question is found in the data folder as a csv file."
   ]
  },
  {
   "attachments": {},
   "cell_type": "markdown",
   "metadata": {},
   "source": [
    "## Data"
   ]
  },
  {
   "cell_type": "code",
   "execution_count": null,
   "metadata": {},
   "outputs": [],
   "source": [
    "# Read data into a Dataframe\n",
    "fish_data = pd.read_csv('./data/Fish.csv')\n",
    "\n",
    "fish_data.info()"
   ]
  },
  {
   "attachments": {},
   "cell_type": "markdown",
   "metadata": {},
   "source": [
    "While the data has no null values, it could and does have weights of zero.\n",
    "\n",
    "This should not be possible, and these entries will be removed in cleaning."
   ]
  },
  {
   "cell_type": "code",
   "execution_count": null,
   "metadata": {},
   "outputs": [],
   "source": [
    "# Drop Weights of 0\n",
    "index = fish_data[ fish_data['Weight'] == 0.0].index\n",
    "fish_data.drop(index, inplace = True)\n",
    "\n",
    "fish_data.describe()"
   ]
  },
  {
   "attachments": {},
   "cell_type": "markdown",
   "metadata": {},
   "source": [
    "In this model, the species of each fish in the dataset was not used.  The model was found to be more prone to error and less accurate while taking this portion into account."
   ]
  },
  {
   "cell_type": "code",
   "execution_count": null,
   "metadata": {},
   "outputs": [],
   "source": [
    "# Separate Target from features\n",
    "y_fish = fish_data.iloc[:, 1]\n",
    "X_fish = fish_data.drop(columns=['Weight'])\n",
    "X_fish = X_fish.drop(columns=['Species'])\n",
    "\n",
    "# Convert into numpy arrays\n",
    "X_fish = X_fish.values\n",
    "y_fish = y_fish.values\n",
    "\n",
    "# Split into Training and Test Groups\n",
    "X_fish_train, X_fish_test, y_fish_train, y_fish_test = train_test_split(X_fish, y_fish, test_size = 0.2, random_state = 0)"
   ]
  },
  {
   "attachments": {},
   "cell_type": "markdown",
   "metadata": {},
   "source": [
    "## Training"
   ]
  },
  {
   "attachments": {},
   "cell_type": "markdown",
   "metadata": {},
   "source": [
    "The model is built using sci-kit's Ridge model with an alpha of 0.\n",
    "\n",
    "While this would technically be linear regression without utilizing the normalization that comes with the Ridge model, the Linear Regression model in sci-kit produced worse results."
   ]
  },
  {
   "cell_type": "code",
   "execution_count": null,
   "metadata": {},
   "outputs": [],
   "source": [
    "# Build Model\n",
    "regressor = make_pipeline(PolynomialFeatures(3), Ridge(alpha=0.0))\n",
    "\n",
    "# Train on split data\n",
    "regressor.fit(X_fish_train, y_fish_train)"
   ]
  },
  {
   "attachments": {},
   "cell_type": "markdown",
   "metadata": {},
   "source": [
    "## Evaluation"
   ]
  },
  {
   "attachments": {},
   "cell_type": "markdown",
   "metadata": {},
   "source": [
    "The model will be evaluated utilizing three methods:\n",
    "\n",
    "1) Comparing Predictions to Actual Test Values\n",
    "2) Mean Squared Error\n",
    "3) R2 Score\n",
    "\n",
    "The last three will be done using the results of the first evaluation method."
   ]
  },
  {
   "cell_type": "code",
   "execution_count": null,
   "metadata": {},
   "outputs": [],
   "source": [
    "# Predict using Test Set\n",
    "y_fish_pol_pred = regressor.predict(X_fish_test)\n",
    "\n",
    "# Build a comparison Dataframe with predictions and actual\n",
    "pred_pol_compare = pd.DataFrame()\n",
    "pred_pol_compare['Prediction'] = y_fish_pol_pred.tolist()\n",
    "pred_pol_compare['Actual'] = y_fish_test.tolist()\n",
    "\n",
    "print(pred_pol_compare)"
   ]
  },
  {
   "cell_type": "code",
   "execution_count": null,
   "metadata": {},
   "outputs": [],
   "source": [
    "# Evaluate using MSE and R2Score\n",
    "mse_pol = mean_squared_error(y_fish_test, y_fish_pol_pred)\n",
    "r2s_pol = r2_score(y_fish_test, y_fish_pol_pred)\n",
    "\n",
    "print(\"MSE: %s | R2S: %s\" % (mse_pol, r2s_pol))"
   ]
  }
 ],
 "metadata": {
  "kernelspec": {
   "display_name": ".venv",
   "language": "python",
   "name": "python3"
  },
  "language_info": {
   "codemirror_mode": {
    "name": "ipython",
    "version": 3
   },
   "file_extension": ".py",
   "mimetype": "text/x-python",
   "name": "python",
   "nbconvert_exporter": "python",
   "pygments_lexer": "ipython3",
   "version": "3.10.7 (tags/v3.10.7:6cc6b13, Sep  5 2022, 14:08:36) [MSC v.1933 64 bit (AMD64)]"
  },
  "orig_nbformat": 4,
  "vscode": {
   "interpreter": {
    "hash": "0d4291c95027929320eef8dfeaefc83595d6ac2fc6dcd7e6a003150ffa9299da"
   }
  }
 },
 "nbformat": 4,
 "nbformat_minor": 2
}
