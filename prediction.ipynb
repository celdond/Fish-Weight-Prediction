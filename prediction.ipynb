{
 "cells": [
  {
   "cell_type": "code",
   "execution_count": null,
   "metadata": {},
   "outputs": [],
   "source": [
    "import pandas as pd\n",
    "from sklearn.model_selection import train_test_split\n",
    "from sklearn.pipeline import make_pipeline\n",
    "from sklearn.linear_model import Ridge\n",
    "from sklearn.metrics import mean_squared_error\n",
    "from sklearn.metrics import r2_score\n",
    "from sklearn.preprocessing import PolynomialFeatures"
   ]
  },
  {
   "attachments": {},
   "cell_type": "markdown",
   "metadata": {},
   "source": [
    "## Data"
   ]
  },
  {
   "cell_type": "code",
   "execution_count": null,
   "metadata": {},
   "outputs": [],
   "source": [
    "fish_data = pd.read_csv('./data/Fish.csv')\n",
    "\n",
    "fish_data.info()"
   ]
  },
  {
   "cell_type": "code",
   "execution_count": null,
   "metadata": {},
   "outputs": [],
   "source": [
    "index = fish_data[ fish_data['Weight'] == 0.0].index\n",
    "fish_data.drop(index, inplace = True)\n",
    "\n",
    "fish_data.describe()"
   ]
  },
  {
   "cell_type": "code",
   "execution_count": null,
   "metadata": {},
   "outputs": [],
   "source": [
    "# Separate Target from features\n",
    "y_fish = fish_data.iloc[:, 1]\n",
    "X_fish = fish_data.drop(columns=['Weight'])\n",
    "X_fish = X_fish.drop(columns=['Species'])\n",
    "\n",
    "# Convert into numpy arrays\n",
    "X_fish = X_fish.values\n",
    "y_fish = y_fish.values\n",
    "\n",
    "# Split into Training and Test Groups\n",
    "X_fish_train, X_fish_test, y_fish_train, y_fish_test = train_test_split(X_fish, y_fish, test_size = 0.2, random_state = 0)"
   ]
  },
  {
   "attachments": {},
   "cell_type": "markdown",
   "metadata": {},
   "source": [
    "## Training"
   ]
  },
  {
   "cell_type": "code",
   "execution_count": null,
   "metadata": {},
   "outputs": [],
   "source": [
    "regressor = make_pipeline(PolynomialFeatures(3), Ridge(alpha=0.0))\n",
    "\n",
    "regressor.fit(X_fish_train, y_fish_train)"
   ]
  },
  {
   "attachments": {},
   "cell_type": "markdown",
   "metadata": {},
   "source": [
    "## Evaluation"
   ]
  },
  {
   "cell_type": "code",
   "execution_count": null,
   "metadata": {},
   "outputs": [],
   "source": [
    "y_fish_pol_pred = regressor.predict(X_fish_test)\n",
    "\n",
    "pred_pol_compare = pd.DataFrame()\n",
    "pred_pol_compare['Prediction'] = y_fish_pol_pred.tolist()\n",
    "pred_pol_compare['Actual'] = y_fish_test.tolist()\n",
    "\n",
    "print(pred_pol_compare)"
   ]
  },
  {
   "cell_type": "code",
   "execution_count": null,
   "metadata": {},
   "outputs": [],
   "source": [
    "mse_pol = mean_squared_error(y_fish_test, y_fish_pol_pred)\n",
    "r2s_pol = r2_score(y_fish_test, y_fish_pol_pred)\n",
    "\n",
    "print(\"MSE: %s | R2S: %s\" % (mse_pol, r2s_pol))"
   ]
  }
 ],
 "metadata": {
  "kernelspec": {
   "display_name": ".venv",
   "language": "python",
   "name": "python3"
  },
  "language_info": {
   "codemirror_mode": {
    "name": "ipython",
    "version": 3
   },
   "file_extension": ".py",
   "mimetype": "text/x-python",
   "name": "python",
   "nbconvert_exporter": "python",
   "pygments_lexer": "ipython3",
   "version": "3.10.7"
  },
  "orig_nbformat": 4,
  "vscode": {
   "interpreter": {
    "hash": "0d4291c95027929320eef8dfeaefc83595d6ac2fc6dcd7e6a003150ffa9299da"
   }
  }
 },
 "nbformat": 4,
 "nbformat_minor": 2
}
